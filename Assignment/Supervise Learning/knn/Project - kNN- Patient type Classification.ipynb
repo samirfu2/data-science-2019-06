{
 "cells": [
  {
   "cell_type": "markdown",
   "metadata": {
    "_uuid": "905cc5ed1d6490c82b6a7082d8895ead2ecd2d74",
    "id": "pq_6bn4s37rW",
    "colab_type": "text"
   },
   "source": [
    "**KNN**\n",
    "\n",
    "According to this algorithm, which is used in classification, feature extraction during classification is used to look at the closeness of the new individual to be categorized to k of the previous individuals.\n",
    "For example, you want to classify a new element for k = 3. in this case the nearest 3 of the old classified elements are taken. If these elements are included in the class, the new element is also included in that class. The euclide distance can be used in the distance calculation."
   ]
  },
  {
   "cell_type": "markdown",
   "metadata": {
    "id": "W_7uuJPl37rX",
    "colab_type": "text"
   },
   "source": [
    "# Project - Classify Type of Patient from the biomechanical features of orthopedic patients."
   ]
  },
  {
   "cell_type": "markdown",
   "metadata": {
    "_cell_guid": "b1076dfc-b9ad-4769-8c92-a6c4dae69d19",
    "_uuid": "8f2839f25d086af736a60e9eeb907d3b93b6e0e5",
    "id": "9zUilPk437rZ",
    "colab_type": "text"
   },
   "source": [
    "# Install the necessary libraries\n"
   ]
  },
  {
   "cell_type": "code",
   "execution_count": 0,
   "metadata": {
    "id": "wA9mXevl37ra",
    "colab_type": "code",
    "colab": {}
   },
   "outputs": [],
   "source": [
    ""
   ]
  },
  {
   "cell_type": "markdown",
   "metadata": {
    "_cell_guid": "79c7e3d0-c299-4dcb-8224-4455121ee9b0",
    "_uuid": "d629ff2d2480ee46fbb7e2d37f6b5fab8052498a",
    "id": "Vhj-ygLk37rf",
    "colab_type": "text"
   },
   "source": [
    "# import data 2C_weka.csv for 2 Class Classifcation.\n"
   ]
  },
  {
   "cell_type": "code",
   "execution_count": 0,
   "metadata": {
    "id": "zJP60jXW37rg",
    "colab_type": "code",
    "colab": {}
   },
   "outputs": [],
   "source": [
    ""
   ]
  },
  {
   "cell_type": "markdown",
   "metadata": {
    "_uuid": "594e3e7d5e6d772c4ea0ff7b86d3007320c300a2",
    "id": "_4YRpeOK37rj",
    "colab_type": "text"
   },
   "source": [
    "# Explore the data set.Get necessary information about the data."
   ]
  },
  {
   "cell_type": "markdown",
   "metadata": {
    "id": "ikUkrsBk37rk",
    "colab_type": "raw"
   },
   "source": [
    "Look at the head and tail of dataset.\n",
    "Find the missing value.\n",
    "Look at the unique values of class values.\n",
    "Look at the distribution of class values and other attributes.\n",
    "Get the datatype information about the dataset\n",
    "Plot the distribution of different classes for pelvic_radius and sacral_slope for visualization."
   ]
  },
  {
   "cell_type": "code",
   "execution_count": 0,
   "metadata": {
    "id": "CHbvCSKR37rl",
    "colab_type": "code",
    "colab": {}
   },
   "outputs": [],
   "source": [
    ""
   ]
  },
  {
   "cell_type": "code",
   "execution_count": 0,
   "metadata": {
    "id": "GEim0gnc37ro",
    "colab_type": "code",
    "colab": {}
   },
   "outputs": [],
   "source": [
    ""
   ]
  },
  {
   "cell_type": "code",
   "execution_count": 0,
   "metadata": {
    "id": "sLTZiVDh37rq",
    "colab_type": "code",
    "colab": {}
   },
   "outputs": [],
   "source": [
    ""
   ]
  },
  {
   "cell_type": "markdown",
   "metadata": {
    "id": "SbD0YwYU37rt",
    "colab_type": "text"
   },
   "source": [
    "# Encode the Class variable to integer."
   ]
  },
  {
   "cell_type": "code",
   "execution_count": 0,
   "metadata": {
    "id": "NVDQZN-Y37ru",
    "colab_type": "code",
    "colab": {}
   },
   "outputs": [],
   "source": [
    ""
   ]
  },
  {
   "cell_type": "code",
   "execution_count": 0,
   "metadata": {
    "id": "Y6XHNLr937rw",
    "colab_type": "code",
    "colab": {}
   },
   "outputs": [],
   "source": [
    ""
   ]
  },
  {
   "cell_type": "code",
   "execution_count": 0,
   "metadata": {
    "id": "fhK4F8TW37rz",
    "colab_type": "code",
    "colab": {}
   },
   "outputs": [],
   "source": [
    ""
   ]
  },
  {
   "cell_type": "markdown",
   "metadata": {
    "_uuid": "b232c9d469373b555c06dc95e35c83c3aee67a4f",
    "id": "Sw7qjm5x37r2",
    "colab_type": "text"
   },
   "source": [
    "# Create the X(Feature-set) and Y(Target-set) sets for your Data."
   ]
  },
  {
   "cell_type": "code",
   "execution_count": 0,
   "metadata": {
    "id": "RkfUlQg637r3",
    "colab_type": "code",
    "colab": {}
   },
   "outputs": [],
   "source": [
    ""
   ]
  },
  {
   "cell_type": "code",
   "execution_count": 0,
   "metadata": {
    "id": "UvIQRHbV37r6",
    "colab_type": "code",
    "colab": {}
   },
   "outputs": [],
   "source": [
    ""
   ]
  },
  {
   "cell_type": "markdown",
   "metadata": {
    "id": "zRaflJ3k37r-",
    "colab_type": "text"
   },
   "source": [
    "# Normalize your Data (X) to get values between 0 to 1."
   ]
  },
  {
   "cell_type": "code",
   "execution_count": 0,
   "metadata": {
    "id": "IIXs9mbe37r-",
    "colab_type": "code",
    "colab": {}
   },
   "outputs": [],
   "source": [
    ""
   ]
  },
  {
   "cell_type": "code",
   "execution_count": 0,
   "metadata": {
    "id": "eGeTWwrh37sB",
    "colab_type": "code",
    "colab": {}
   },
   "outputs": [],
   "source": [
    ""
   ]
  },
  {
   "cell_type": "markdown",
   "metadata": {
    "_uuid": "92312942664a740d971f8f4aa30f2485ee58826a",
    "id": "4AyLHTZH37sD",
    "colab_type": "text"
   },
   "source": [
    "# Split the dat as train and test with a ratio of 70:30."
   ]
  },
  {
   "cell_type": "code",
   "execution_count": 0,
   "metadata": {
    "id": "7c3lK96D37sE",
    "colab_type": "code",
    "colab": {}
   },
   "outputs": [],
   "source": [
    ""
   ]
  },
  {
   "cell_type": "code",
   "execution_count": 0,
   "metadata": {
    "id": "CZ2wQ7pu37sH",
    "colab_type": "code",
    "colab": {}
   },
   "outputs": [],
   "source": [
    ""
   ]
  },
  {
   "cell_type": "markdown",
   "metadata": {
    "_uuid": "82a731c032b33691506467a242e3ceb8a1d29799",
    "id": "v1490fyH37sJ",
    "colab_type": "text"
   },
   "source": [
    "# Build the KNN model using Train Dataset and predict the class on test dataset."
   ]
  },
  {
   "cell_type": "code",
   "execution_count": 0,
   "metadata": {
    "id": "dyHtQvLR37sK",
    "colab_type": "code",
    "colab": {}
   },
   "outputs": [],
   "source": [
    ""
   ]
  },
  {
   "cell_type": "code",
   "execution_count": 0,
   "metadata": {
    "id": "sip0VqNF37sM",
    "colab_type": "code",
    "colab": {}
   },
   "outputs": [],
   "source": [
    ""
   ]
  },
  {
   "cell_type": "markdown",
   "metadata": {
    "id": "Pq5PhlZb37sO",
    "colab_type": "text"
   },
   "source": [
    "# Calculate the performance score of of your classification on test dataset.\n",
    "Hint- You can use knn.score( ) function."
   ]
  },
  {
   "cell_type": "code",
   "execution_count": 0,
   "metadata": {
    "id": "rnlVqgbP37sP",
    "colab_type": "code",
    "colab": {}
   },
   "outputs": [],
   "source": [
    ""
   ]
  },
  {
   "cell_type": "code",
   "execution_count": 0,
   "metadata": {
    "id": "jw0kq6PG37sR",
    "colab_type": "code",
    "colab": {}
   },
   "outputs": [],
   "source": [
    ""
   ]
  },
  {
   "cell_type": "markdown",
   "metadata": {
    "id": "N2kyeRqk37sX",
    "colab_type": "text"
   },
   "source": [
    "# What is the best K value for your classifcation?\n",
    "#Find at which k value you get the best score."
   ]
  },
  {
   "cell_type": "code",
   "execution_count": 0,
   "metadata": {
    "id": "nmsOTGp-37sa",
    "colab_type": "code",
    "colab": {}
   },
   "outputs": [],
   "source": [
    ""
   ]
  },
  {
   "cell_type": "code",
   "execution_count": 0,
   "metadata": {
    "id": "iglB-Bmy37sf",
    "colab_type": "code",
    "colab": {}
   },
   "outputs": [],
   "source": [
    ""
   ]
  },
  {
   "cell_type": "code",
   "execution_count": 0,
   "metadata": {
    "id": "TdQu97l437sj",
    "colab_type": "code",
    "colab": {}
   },
   "outputs": [],
   "source": [
    ""
   ]
  },
  {
   "cell_type": "markdown",
   "metadata": {
    "id": "F4cqH9Jr37sm",
    "colab_type": "text"
   },
   "source": [
    "# import data 3C_weka.csv for 3 Class Classifcation and repeat all the steps which are given above."
   ]
  },
  {
   "cell_type": "code",
   "execution_count": 0,
   "metadata": {
    "id": "kvLjUl4x37sn",
    "colab_type": "code",
    "colab": {}
   },
   "outputs": [],
   "source": [
    ""
   ]
  }
 ],
 "metadata": {
  "colab": {
   "name": "Project - kNN- Patient type Classification.ipynb",
   "version": "0.3.2",
   "provenance": []
  },
  "language_info": {
   "codemirror_mode": {
    "name": "ipython",
    "version": 3
   },
   "file_extension": ".py",
   "mimetype": "text/x-python",
   "name": "python",
   "nbconvert_exporter": "python",
   "pygments_lexer": "ipython3",
   "version": "3.6.8"
  },
  "kernelspec": {
   "display_name": "Python 3",
   "language": "python",
   "name": "python3"
  }
 },
 "nbformat": 4,
 "nbformat_minor": 0
}
