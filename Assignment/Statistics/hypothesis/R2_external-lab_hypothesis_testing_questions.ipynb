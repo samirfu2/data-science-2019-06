{
 "cells": [
  {
   "cell_type": "markdown",
   "metadata": {
    "id": "xx5CxeVubU3W",
    "colab_type": "text"
   },
   "source": [
    "# Hypothesis Testing"
   ]
  },
  {
   "cell_type": "markdown",
   "metadata": {
    "id": "6OR23eWKbU3X",
    "colab_type": "text"
   },
   "source": [
    "The purpose of the test is to tell if there is any significant difference between two data sets.\n",
    "\n"
   ]
  },
  {
   "cell_type": "markdown",
   "metadata": {
    "id": "604OoWnTbU3Z",
    "colab_type": "text"
   },
   "source": [
    "## Overview"
   ]
  },
  {
   "cell_type": "markdown",
   "metadata": {
    "id": "o-il1iBSbU3b",
    "colab_type": "text"
   },
   "source": [
    "This module covers,\n",
    "\n",
    "1) One sample and Two sample t-tests\n",
    "\n",
    "2) ANOVA\n",
    "\n",
    "3) Type I and Type II errors\n",
    "\n",
    "4) Chi-Squared Tests"
   ]
  },
  {
   "cell_type": "markdown",
   "metadata": {
    "id": "G2yYl5cvbU3c",
    "colab_type": "text"
   },
   "source": [
    "## Question 1 \n",
    "\n",
    "*A student is trying to decide between two GPUs. He want to use the GPU for his research to run Deep learning algorithms, so the only thing he is concerned with is speed.*\n",
    "\n",
    "*He picks a Deep Learning algorithm on a large data set and runs it on both GPUs 15 times, timing each run in hours. Results are given in the below lists GPU1 and GPU2.*"
   ]
  },
  {
   "cell_type": "code",
   "execution_count": 0,
   "metadata": {
    "id": "ohh5XJ4ZbU3d",
    "colab_type": "code",
    "colab": {}
   },
   "outputs": [],
   "source": [
    "from scipy import stats \n",
    "import numpy as np"
   ]
  },
  {
   "cell_type": "code",
   "execution_count": 0,
   "metadata": {
    "id": "6yGkYI6EbU3i",
    "colab_type": "code",
    "colab": {}
   },
   "outputs": [],
   "source": [
    "GPU1 = np.array([11,9,10,11,10,12,9,11,12,9,11,12,9,10,9])\n",
    "GPU2 = np.array([11,13,10,13,12,9,11,12,12,11,12,12,10,11,13])\n",
    "\n",
    "#Assumption: Both the datasets (GPU1 & GPU 2) are random, independent, parametric & normally distributed"
   ]
  },
  {
   "cell_type": "markdown",
   "metadata": {
    "id": "L55jqmIXbU3m",
    "colab_type": "text"
   },
   "source": [
    "Hint: You can import ttest function from scipy to perform t tests "
   ]
  },
  {
   "cell_type": "markdown",
   "metadata": {
    "id": "v8fsIhPFbU3n",
    "colab_type": "text"
   },
   "source": [
    "**First T test**\n",
    "\n",
    "*One sample t-test*\n",
    "\n",
    "Check if the mean of the GPU1 is equal to zero.\n",
    "- Null Hypothesis is that mean is equal to zero.\n",
    "- Alternate hypothesis is that it is not equal to zero."
   ]
  },
  {
   "cell_type": "code",
   "execution_count": 0,
   "metadata": {
    "id": "wgMSWwApbU3o",
    "colab_type": "code",
    "colab": {}
   },
   "outputs": [],
   "source": [
    ""
   ]
  },
  {
   "cell_type": "markdown",
   "metadata": {
    "id": "byu8iw46bU3v",
    "colab_type": "text"
   },
   "source": [
    "## Question 2"
   ]
  },
  {
   "cell_type": "markdown",
   "metadata": {
    "id": "E65pzWcJbU3w",
    "colab_type": "text"
   },
   "source": [
    "Given,\n",
    "\n",
    "Null Hypothesis : There is no significant difference between data sets\n",
    "\n",
    "Alternate Hypothesis : There is a significant difference\n",
    "\n",
    "*Do two-sample testing and check whether to reject Null Hypothesis or not.*"
   ]
  },
  {
   "cell_type": "markdown",
   "metadata": {
    "id": "N-zpWvyXbU32",
    "colab_type": "text"
   },
   "source": [
    "https://docs.scipy.org/doc/scipy/reference/generated/scipy.stats.ttest_ind.html"
   ]
  },
  {
   "cell_type": "code",
   "execution_count": 0,
   "metadata": {
    "id": "UDDkuOtObU3x",
    "colab_type": "code",
    "colab": {}
   },
   "outputs": [],
   "source": [
    ""
   ]
  },
  {
   "cell_type": "markdown",
   "metadata": {
    "id": "MbXv5aZvbU33",
    "colab_type": "text"
   },
   "source": [
    "## Question 3\n",
    "\n",
    "He is trying a third GPU - GPU3."
   ]
  },
  {
   "cell_type": "code",
   "execution_count": 0,
   "metadata": {
    "id": "kkh_sQl4bU34",
    "colab_type": "code",
    "colab": {}
   },
   "outputs": [],
   "source": [
    "GPU3 = np.array([9,10,9,11,10,13,12,9,12,12,13,12,13,10,11])\n",
    "\n",
    "#Assumption: Both the datasets (GPU1 & GPU 3) are random, independent, parametric & normally distributed"
   ]
  },
  {
   "cell_type": "markdown",
   "metadata": {
    "id": "WoYNz3g7bU37",
    "colab_type": "text"
   },
   "source": [
    "*Do two-sample testing and check whether there is significant differene between speeds of two GPUs GPU1 and GPU3.*\n",
    "\n",
    "#### Answer:"
   ]
  },
  {
   "cell_type": "code",
   "execution_count": 0,
   "metadata": {
    "id": "X4N11XArbU38",
    "colab_type": "code",
    "colab": {}
   },
   "outputs": [],
   "source": [
    ""
   ]
  },
  {
   "cell_type": "markdown",
   "metadata": {
    "id": "oyDFS4WZbU4A",
    "colab_type": "text"
   },
   "source": [
    "## ANOVA"
   ]
  },
  {
   "cell_type": "markdown",
   "metadata": {
    "id": "wknPzstFbU4B",
    "colab_type": "text"
   },
   "source": [
    "## Question 4 \n",
    "\n",
    "If you need to compare more than two data sets at a time, an ANOVA is your best bet. \n",
    "\n",
    "*The results from three experiments with overlapping 95% confidence intervals are given below, and we want to confirm that the results for all three experiments are not significantly different.*\n",
    "\n",
    "But before conducting ANOVA, test equality of variances (using Levene's test) is satisfied or not. If not, then mention that we cannot depend on the result of ANOVA"
   ]
  },
  {
   "cell_type": "code",
   "execution_count": 0,
   "metadata": {
    "id": "kGb0GeK8bU4C",
    "colab_type": "code",
    "colab": {}
   },
   "outputs": [],
   "source": [
    "import numpy as np\n",
    "\n",
    "e1 = np.array([1.595440,1.419730,0.000000,0.000000])\n",
    "e2 = np.array([1.433800,2.079700,0.892139,2.384740])\n",
    "e3 = np.array([0.036930,0.938018,0.995956,1.006970])\n",
    "\n",
    "#Assumption: All the 3 datasets (e1,e2 & e3) are random, independent, parametric & normally distributed"
   ]
  },
  {
   "cell_type": "markdown",
   "metadata": {
    "id": "_xiYN6gVbU4G",
    "colab_type": "text"
   },
   "source": [
    "Perform levene test on the data\n",
    "\n",
    "The Levene test tests the null hypothesis that all input samples are from populations with equal variances. Levene’s test is an alternative to Bartlett’s test bartlett in the case where there are significant deviations from normality.\n",
    "\n",
    "source: scipy.org"
   ]
  },
  {
   "cell_type": "markdown",
   "metadata": {
    "id": "f2MlJTXgbU4H",
    "colab_type": "text"
   },
   "source": [
    "#### Answer:"
   ]
  },
  {
   "cell_type": "code",
   "execution_count": 0,
   "metadata": {
    "id": "VUJP_GGQbU4R",
    "colab_type": "code",
    "colab": {}
   },
   "outputs": [],
   "source": [
    ""
   ]
  },
  {
   "cell_type": "markdown",
   "metadata": {
    "id": "FigxGCQtbU4Y",
    "colab_type": "text"
   },
   "source": [
    "## Question 5\n",
    "\n",
    "The one-way ANOVA tests the null hypothesis that two or more groups have the same population mean. The test is applied to samples from two or more groups, possibly with differing sizes.\n",
    "\n",
    "use stats.f_oneway() module to perform one-way ANOVA test"
   ]
  },
  {
   "cell_type": "code",
   "execution_count": 0,
   "metadata": {
    "id": "P3bPYPCbbU4Z",
    "colab_type": "code",
    "colab": {}
   },
   "outputs": [],
   "source": [
    ""
   ]
  },
  {
   "cell_type": "markdown",
   "metadata": {
    "id": "yrMK1qb7bU4j",
    "colab_type": "text"
   },
   "source": [
    "## Question 6\n",
    "\n",
    "*In one or two sentences explain about **TypeI** and **TypeII** errors.*\n",
    "\n",
    "#### Answer:"
   ]
  },
  {
   "cell_type": "markdown",
   "metadata": {
    "id": "H08OGwdIbU4k",
    "colab_type": "text"
   },
   "source": [
    "answer here"
   ]
  },
  {
   "cell_type": "markdown",
   "metadata": {
    "id": "hm7v3pcIbU4m",
    "colab_type": "text"
   },
   "source": [
    "## Question 7 \n",
    "\n",
    "You are a manager of a chinese restaurant. You want to determine whether the waiting time to place an order has changed in the past month from its previous population mean value of 4.5 minutes. \n",
    "State the null and alternative hypothesis.\n",
    "\n",
    "#### Answer:\n"
   ]
  },
  {
   "cell_type": "markdown",
   "metadata": {
    "id": "pbbaU2I4bU4n",
    "colab_type": "text"
   },
   "source": [
    "answer here"
   ]
  },
  {
   "cell_type": "markdown",
   "metadata": {
    "id": "1SGpq-dKbU4r",
    "colab_type": "text"
   },
   "source": [
    "## Chi square test"
   ]
  },
  {
   "cell_type": "markdown",
   "metadata": {
    "id": "WlxmIu_rdgpc",
    "colab_type": "text"
   },
   "source": [
    "## Question 8"
   ]
  },
  {
   "cell_type": "markdown",
   "metadata": {
    "id": "8J3V015PbU4s",
    "colab_type": "text"
   },
   "source": [
    "Let's create a small dataset for dice rolls of four players"
   ]
  },
  {
   "cell_type": "code",
   "execution_count": 0,
   "metadata": {
    "id": "xrO5BbIEbU4t",
    "colab_type": "code",
    "colab": {}
   },
   "outputs": [],
   "source": [
    "import numpy as np\n",
    "\n",
    "d1 = [5, 8, 3, 8]\n",
    "d2 = [9, 6, 8, 5]\n",
    "d3 = [8, 12, 7, 2]\n",
    "d4 = [4, 16, 7, 3]\n",
    "d5 = [3, 9, 6, 5]\n",
    "d6 = [7, 2, 5, 7]\n",
    "\n",
    "dice = np.array([d1, d2, d3, d4, d5, d6])"
   ]
  },
  {
   "cell_type": "markdown",
   "metadata": {
    "id": "uF7GRMChbU4x",
    "colab_type": "text"
   },
   "source": [
    "run the test using SciPy Stats library\n",
    "\n",
    "Depending on the test, we are generally looking for a threshold at either 0.05 or 0.01. Our test is significant (i.e. we reject the null hypothesis) if we get a p-value below our threshold.\n",
    "\n",
    "For our purposes, we’ll use 0.01 as the threshold.\n",
    "\n",
    "use stats.chi2_contingency() module \n",
    "\n",
    "This function computes the chi-square statistic and p-value for the hypothesis test of independence of the observed frequencies in the contingency table\n",
    "\n",
    "Print the following:\n",
    "\n",
    "- chi2 stat\n",
    "- p-value\n",
    "- degree of freedom\n",
    "- contingency\n",
    "\n"
   ]
  },
  {
   "cell_type": "code",
   "execution_count": 0,
   "metadata": {
    "id": "vqaTIKmgbU4y",
    "colab_type": "code",
    "colab": {}
   },
   "outputs": [],
   "source": [
    ""
   ]
  },
  {
   "cell_type": "markdown",
   "metadata": {
    "id": "VzyfaNoabU42",
    "colab_type": "text"
   },
   "source": [
    "## Question 9\n",
    "\n",
    "### Z-test\n",
    "\n",
    "Get zscore on the above dice data using stats.zscore module from scipy. Convert zscore values to p-value and take mean of the array."
   ]
  },
  {
   "cell_type": "code",
   "execution_count": 0,
   "metadata": {
    "id": "Sd5xPCuRbU43",
    "colab_type": "code",
    "colab": {}
   },
   "outputs": [],
   "source": [
    ""
   ]
  },
  {
   "cell_type": "markdown",
   "metadata": {
    "id": "OyoFUxf5bU47",
    "colab_type": "text"
   },
   "source": [
    "## Question 10\n",
    "\n",
    "A Paired sample t-test compares means from the same group at different times.\n",
    "\n",
    "The basic two sample t-test is designed for testing differences between independent groups. \n",
    "In some cases, you might be interested in testing differences between samples of the same group at different points in time. \n",
    "We can conduct a paired t-test using the scipy function stats.ttest_rel(). "
   ]
  },
  {
   "cell_type": "code",
   "execution_count": 0,
   "metadata": {
    "id": "SwVmQ1gRbU48",
    "colab_type": "code",
    "colab": {}
   },
   "outputs": [],
   "source": [
    "before= stats.norm.rvs(scale=30, loc=100, size=500) ## Creates a normal distribution with a mean value of 100 and std of 30\n",
    "after = before + stats.norm.rvs(scale=5, loc=-1.25, size=500)"
   ]
  },
  {
   "cell_type": "markdown",
   "metadata": {
    "id": "rB_os5FjbU4_",
    "colab_type": "text"
   },
   "source": [
    "Test whether a weight-loss drug works by checking the weights of the same group patients before and after treatment using above data."
   ]
  },
  {
   "cell_type": "code",
   "execution_count": 0,
   "metadata": {
    "id": "Fq2wyEqlbU5A",
    "colab_type": "code",
    "colab": {}
   },
   "outputs": [],
   "source": [
    ""
   ]
  }
 ],
 "metadata": {
  "colab": {
   "name": "R2_external-lab_hypothesis_testing_questions.ipynb",
   "version": "0.3.2",
   "provenance": [],
   "collapsed_sections": []
  },
  "language_info": {
   "codemirror_mode": {
    "name": "ipython",
    "version": 3
   },
   "file_extension": ".py",
   "mimetype": "text/x-python",
   "name": "python",
   "nbconvert_exporter": "python",
   "pygments_lexer": "ipython3",
   "version": "3.7.1"
  },
  "kernelspec": {
   "display_name": "Python 3",
   "language": "python",
   "name": "python3"
  }
 },
 "nbformat": 4,
 "nbformat_minor": 0
}
